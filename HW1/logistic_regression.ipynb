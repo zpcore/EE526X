{
 "cells": [
  {
   "cell_type": "markdown",
   "metadata": {},
   "source": [
    "## Logistic Regression for Spam Classification\n",
    "Import Data from https://archive.ics.uci.edu/ml/machine-learning-databases/spambase/spambase.data, rename it as 'spambase.csv'."
   ]
  },
  {
   "cell_type": "code",
   "execution_count": 1,
   "metadata": {},
   "outputs": [
    {
     "data": {
      "text/html": [
       "<div>\n",
       "<style>\n",
       "    .dataframe thead tr:only-child th {\n",
       "        text-align: right;\n",
       "    }\n",
       "\n",
       "    .dataframe thead th {\n",
       "        text-align: left;\n",
       "    }\n",
       "\n",
       "    .dataframe tbody tr th {\n",
       "        vertical-align: top;\n",
       "    }\n",
       "</style>\n",
       "<table border=\"1\" class=\"dataframe\">\n",
       "  <thead>\n",
       "    <tr style=\"text-align: right;\">\n",
       "      <th></th>\n",
       "      <th>0</th>\n",
       "      <th>1</th>\n",
       "      <th>2</th>\n",
       "      <th>3</th>\n",
       "      <th>4</th>\n",
       "      <th>5</th>\n",
       "      <th>6</th>\n",
       "      <th>7</th>\n",
       "      <th>8</th>\n",
       "      <th>9</th>\n",
       "      <th>...</th>\n",
       "      <th>48</th>\n",
       "      <th>49</th>\n",
       "      <th>50</th>\n",
       "      <th>51</th>\n",
       "      <th>52</th>\n",
       "      <th>53</th>\n",
       "      <th>54</th>\n",
       "      <th>55</th>\n",
       "      <th>56</th>\n",
       "      <th>57</th>\n",
       "    </tr>\n",
       "  </thead>\n",
       "  <tbody>\n",
       "    <tr>\n",
       "      <th>0</th>\n",
       "      <td>0.96</td>\n",
       "      <td>0.00</td>\n",
       "      <td>0.48</td>\n",
       "      <td>0.0</td>\n",
       "      <td>0.00</td>\n",
       "      <td>0.96</td>\n",
       "      <td>0.0</td>\n",
       "      <td>0.00</td>\n",
       "      <td>0.48</td>\n",
       "      <td>0.0</td>\n",
       "      <td>...</td>\n",
       "      <td>0.0</td>\n",
       "      <td>0.818</td>\n",
       "      <td>0.0</td>\n",
       "      <td>0.175</td>\n",
       "      <td>0.467</td>\n",
       "      <td>0.116</td>\n",
       "      <td>9.560</td>\n",
       "      <td>259</td>\n",
       "      <td>717</td>\n",
       "      <td>1</td>\n",
       "    </tr>\n",
       "    <tr>\n",
       "      <th>1</th>\n",
       "      <td>0.76</td>\n",
       "      <td>0.00</td>\n",
       "      <td>0.38</td>\n",
       "      <td>0.0</td>\n",
       "      <td>0.12</td>\n",
       "      <td>0.25</td>\n",
       "      <td>0.0</td>\n",
       "      <td>0.12</td>\n",
       "      <td>0.12</td>\n",
       "      <td>0.0</td>\n",
       "      <td>...</td>\n",
       "      <td>0.0</td>\n",
       "      <td>0.022</td>\n",
       "      <td>0.0</td>\n",
       "      <td>0.661</td>\n",
       "      <td>0.088</td>\n",
       "      <td>0.000</td>\n",
       "      <td>2.256</td>\n",
       "      <td>21</td>\n",
       "      <td>325</td>\n",
       "      <td>1</td>\n",
       "    </tr>\n",
       "    <tr>\n",
       "      <th>2</th>\n",
       "      <td>0.00</td>\n",
       "      <td>0.00</td>\n",
       "      <td>0.00</td>\n",
       "      <td>0.0</td>\n",
       "      <td>0.00</td>\n",
       "      <td>0.00</td>\n",
       "      <td>0.0</td>\n",
       "      <td>0.00</td>\n",
       "      <td>0.00</td>\n",
       "      <td>0.0</td>\n",
       "      <td>...</td>\n",
       "      <td>0.0</td>\n",
       "      <td>0.000</td>\n",
       "      <td>0.0</td>\n",
       "      <td>0.000</td>\n",
       "      <td>0.000</td>\n",
       "      <td>0.000</td>\n",
       "      <td>1.000</td>\n",
       "      <td>1</td>\n",
       "      <td>5</td>\n",
       "      <td>0</td>\n",
       "    </tr>\n",
       "    <tr>\n",
       "      <th>3</th>\n",
       "      <td>0.00</td>\n",
       "      <td>0.51</td>\n",
       "      <td>0.00</td>\n",
       "      <td>0.0</td>\n",
       "      <td>1.02</td>\n",
       "      <td>0.00</td>\n",
       "      <td>0.0</td>\n",
       "      <td>0.51</td>\n",
       "      <td>0.00</td>\n",
       "      <td>0.0</td>\n",
       "      <td>...</td>\n",
       "      <td>0.0</td>\n",
       "      <td>0.071</td>\n",
       "      <td>0.0</td>\n",
       "      <td>0.000</td>\n",
       "      <td>0.000</td>\n",
       "      <td>0.000</td>\n",
       "      <td>2.076</td>\n",
       "      <td>9</td>\n",
       "      <td>108</td>\n",
       "      <td>0</td>\n",
       "    </tr>\n",
       "    <tr>\n",
       "      <th>4</th>\n",
       "      <td>0.00</td>\n",
       "      <td>14.28</td>\n",
       "      <td>0.00</td>\n",
       "      <td>0.0</td>\n",
       "      <td>0.00</td>\n",
       "      <td>0.00</td>\n",
       "      <td>0.0</td>\n",
       "      <td>0.00</td>\n",
       "      <td>0.00</td>\n",
       "      <td>0.0</td>\n",
       "      <td>...</td>\n",
       "      <td>0.0</td>\n",
       "      <td>0.000</td>\n",
       "      <td>0.0</td>\n",
       "      <td>0.000</td>\n",
       "      <td>0.000</td>\n",
       "      <td>0.000</td>\n",
       "      <td>1.800</td>\n",
       "      <td>5</td>\n",
       "      <td>9</td>\n",
       "      <td>0</td>\n",
       "    </tr>\n",
       "  </tbody>\n",
       "</table>\n",
       "<p>5 rows × 58 columns</p>\n",
       "</div>"
      ],
      "text/plain": [
       "     0      1     2    3     4     5    6     7     8    9  ...   48     49  \\\n",
       "0  0.96   0.00  0.48  0.0  0.00  0.96  0.0  0.00  0.48  0.0 ...  0.0  0.818   \n",
       "1  0.76   0.00  0.38  0.0  0.12  0.25  0.0  0.12  0.12  0.0 ...  0.0  0.022   \n",
       "2  0.00   0.00  0.00  0.0  0.00  0.00  0.0  0.00  0.00  0.0 ...  0.0  0.000   \n",
       "3  0.00   0.51  0.00  0.0  1.02  0.00  0.0  0.51  0.00  0.0 ...  0.0  0.071   \n",
       "4  0.00  14.28  0.00  0.0  0.00  0.00  0.0  0.00  0.00  0.0 ...  0.0  0.000   \n",
       "\n",
       "    50     51     52     53     54   55   56  57  \n",
       "0  0.0  0.175  0.467  0.116  9.560  259  717   1  \n",
       "1  0.0  0.661  0.088  0.000  2.256   21  325   1  \n",
       "2  0.0  0.000  0.000  0.000  1.000    1    5   0  \n",
       "3  0.0  0.000  0.000  0.000  2.076    9  108   0  \n",
       "4  0.0  0.000  0.000  0.000  1.800    5    9   0  \n",
       "\n",
       "[5 rows x 58 columns]"
      ]
     },
     "execution_count": 1,
     "metadata": {},
     "output_type": "execute_result"
    }
   ],
   "source": [
    "%matplotlib inline\n",
    "%config InlineBackend.figure_format = 'retina'\n",
    "\n",
    "import numpy as np\n",
    "import pandas as pd\n",
    "from sklearn.linear_model import LinearRegression,SGDClassifier\n",
    "import matplotlib.pyplot as plt\n",
    "\n",
    "data_path = 'spambase.csv'\n",
    "spam = pd.read_csv(data_path,header=None)\n",
    "\n",
    "## shuffle the data\n",
    "spam = spam.sample(frac=1).reset_index(drop=True)\n",
    "spam.head()"
   ]
  },
  {
   "cell_type": "markdown",
   "metadata": {},
   "source": [
    "#### Generate Training Data and Testing Data\n",
    "Split 33% for testing data, 66% as training data."
   ]
  },
  {
   "cell_type": "code",
   "execution_count": 2,
   "metadata": {},
   "outputs": [],
   "source": [
    "# split feature and label\n",
    "# spam_feature = spam[np.r_[0:57]]\n",
    "# spam_label = spam[57]\n",
    "\n",
    "# 1/3 data for test\n",
    "test_data = spam[-spam.shape[0]//3:]\n",
    "test_data_feature = test_data[np.r_[0:57]]\n",
    "test_data_label = test_data[57]\n",
    "# 2/3 data for train\n",
    "train_data = spam[:-spam.shape[0]//3]\n",
    "train_data_feature = train_data[np.r_[0:57]]\n",
    "train_data_label = train_data[57]"
   ]
  },
  {
   "cell_type": "code",
   "execution_count": 3,
   "metadata": {},
   "outputs": [
    {
     "name": "stderr",
     "output_type": "stream",
     "text": [
      "/Users/PEI/anaconda/envs/tensorflow/lib/python3.5/site-packages/sklearn/linear_model/stochastic_gradient.py:84: FutureWarning: max_iter and tol parameters have been added in <class 'sklearn.linear_model.stochastic_gradient.SGDClassifier'> in 0.19. If both are left unset, they default to max_iter=5 and tol=None. If tol is not None, max_iter defaults to max_iter=1000. From 0.21, default max_iter will be 1000, and default tol will be 1e-3.\n",
      "  \"and default tol will be 1e-3.\" % type(self), FutureWarning)\n"
     ]
    },
    {
     "data": {
      "text/plain": [
       "SGDClassifier(alpha=0.0001, average=False, class_weight=None, epsilon=0.1,\n",
       "       eta0=0.001, fit_intercept=True, l1_ratio=0.15,\n",
       "       learning_rate='constant', loss='hinge', max_iter=5, n_iter=None,\n",
       "       n_jobs=1, penalty='l2', power_t=0.5, random_state=None,\n",
       "       shuffle=True, tol=None, verbose=0, warm_start=False)"
      ]
     },
     "execution_count": 3,
     "metadata": {},
     "output_type": "execute_result"
    }
   ],
   "source": [
    "# use Stochastic Gradient Descent(SGD) to train the model, eta0 is the learning rate\n",
    "classify_model = SGDClassifier(loss=\"hinge\", penalty=\"l2\",learning_rate='constant',eta0=0.001)\n",
    "classify_model.fit(train_data_feature,train_data_label)"
   ]
  },
  {
   "cell_type": "code",
   "execution_count": 4,
   "metadata": {},
   "outputs": [],
   "source": [
    "predict = classify_model.predict(test_data_feature)"
   ]
  },
  {
   "cell_type": "code",
   "execution_count": 5,
   "metadata": {},
   "outputs": [
    {
     "name": "stdout",
     "output_type": "stream",
     "text": [
      "Before normalization, testing error rate: 26.66%\n"
     ]
    }
   ],
   "source": [
    "tot,err=0,0\n",
    "for pred,truth in zip(predict,test_data_label.tolist()):\n",
    "    if pred!=truth:\n",
    "        err+=1\n",
    "    tot+=1\n",
    "print('Before normalization, testing error rate: {:.2%}'.format(err/tot))"
   ]
  },
  {
   "cell_type": "markdown",
   "metadata": {},
   "source": [
    "### Test to see how learning rate affect error rate\n",
    "We do the fixed 1000 iterations, but change the learning rate from 0.001 to 0.1"
   ]
  },
  {
   "cell_type": "code",
   "execution_count": 6,
   "metadata": {},
   "outputs": [
    {
     "name": "stdout",
     "output_type": "stream",
     "text": [
      "Before normalization, testing error rate: 13.30%\n",
      "Before normalization, testing error rate: 25.55%\n",
      "Before normalization, testing error rate: 14.93%\n",
      "Before normalization, testing error rate: 30.57%\n",
      "Before normalization, testing error rate: 23.01%\n",
      "Before normalization, testing error rate: 44.85%\n"
     ]
    }
   ],
   "source": [
    "err_tab=[]\n",
    "test_rate = [0.0002,0.001,0.005,0.025,0.125,0.725,]\n",
    "for rate in test_rate:\n",
    "    classify_model = SGDClassifier(loss=\"hinge\", penalty=\"l2\",learning_rate='constant',eta0=rate,max_iter=1000,tol=None)\n",
    "    classify_model.fit(train_data_feature,train_data_label)\n",
    "    predict = classify_model.predict(test_data_feature)\n",
    "    tot,err=0,0\n",
    "    for pred,truth in zip(predict,test_data_label.tolist()):\n",
    "        if pred!=truth:\n",
    "            err+=1\n",
    "        tot+=1\n",
    "    err_tab+=[err/tot]\n",
    "    print('Before normalization, testing error rate: {:.2%}'.format(err/tot))\n",
    "   \n",
    "    \n",
    "    "
   ]
  },
  {
   "cell_type": "code",
   "execution_count": 7,
   "metadata": {},
   "outputs": [
    {
     "data": {
      "text/plain": [
       "<matplotlib.text.Text at 0x10fa9be48>"
      ]
     },
     "execution_count": 7,
     "metadata": {},
     "output_type": "execute_result"
    },
    {
     "data": {
      "image/png": "[encoded data removed]",
      "text/plain": [
       "<matplotlib.figure.Figure at 0x103ef6860>"
      ]
     },
     "metadata": {
      "image/png": {
       "height": 265,
       "width": 396
      }
     },
     "output_type": "display_data"
    }
   ],
   "source": [
    "plt.xscale('log')\n",
    "plt.scatter(test_rate, err_tab, color=\"blue\")\n",
    "plt.ylabel(\"learning rate\")\n",
    "plt.xlabel(\"error rate\")"
   ]
  },
  {
   "cell_type": "markdown",
   "metadata": {},
   "source": [
    "### Normalize the data"
   ]
  },
  {
   "cell_type": "code",
   "execution_count": 8,
   "metadata": {},
   "outputs": [
    {
     "data": {
      "text/html": [
       "<div>\n",
       "<style>\n",
       "    .dataframe thead tr:only-child th {\n",
       "        text-align: right;\n",
       "    }\n",
       "\n",
       "    .dataframe thead th {\n",
       "        text-align: left;\n",
       "    }\n",
       "\n",
       "    .dataframe tbody tr th {\n",
       "        vertical-align: top;\n",
       "    }\n",
       "</style>\n",
       "<table border=\"1\" class=\"dataframe\">\n",
       "  <thead>\n",
       "    <tr style=\"text-align: right;\">\n",
       "      <th></th>\n",
       "      <th>0</th>\n",
       "      <th>1</th>\n",
       "      <th>2</th>\n",
       "      <th>3</th>\n",
       "      <th>4</th>\n",
       "      <th>5</th>\n",
       "      <th>6</th>\n",
       "      <th>7</th>\n",
       "      <th>8</th>\n",
       "      <th>9</th>\n",
       "      <th>...</th>\n",
       "      <th>48</th>\n",
       "      <th>49</th>\n",
       "      <th>50</th>\n",
       "      <th>51</th>\n",
       "      <th>52</th>\n",
       "      <th>53</th>\n",
       "      <th>54</th>\n",
       "      <th>55</th>\n",
       "      <th>56</th>\n",
       "      <th>57</th>\n",
       "    </tr>\n",
       "  </thead>\n",
       "  <tbody>\n",
       "    <tr>\n",
       "      <th>0</th>\n",
       "      <td>2.801459</td>\n",
       "      <td>-0.165054</td>\n",
       "      <td>0.395411</td>\n",
       "      <td>-0.046894</td>\n",
       "      <td>-0.464264</td>\n",
       "      <td>3.155672</td>\n",
       "      <td>-0.291762</td>\n",
       "      <td>-0.262533</td>\n",
       "      <td>1.399535</td>\n",
       "      <td>-0.371324</td>\n",
       "      <td>...</td>\n",
       "      <td>-0.158436</td>\n",
       "      <td>2.511397</td>\n",
       "      <td>-0.155181</td>\n",
       "      <td>-0.115329</td>\n",
       "      <td>1.590964</td>\n",
       "      <td>0.167144</td>\n",
       "      <td>0.137679</td>\n",
       "      <td>1.061244</td>\n",
       "      <td>0.715284</td>\n",
       "      <td>1</td>\n",
       "    </tr>\n",
       "    <tr>\n",
       "      <th>1</th>\n",
       "      <td>2.146489</td>\n",
       "      <td>-0.165054</td>\n",
       "      <td>0.197054</td>\n",
       "      <td>-0.046894</td>\n",
       "      <td>-0.285829</td>\n",
       "      <td>0.562767</td>\n",
       "      <td>-0.291762</td>\n",
       "      <td>0.036666</td>\n",
       "      <td>0.107433</td>\n",
       "      <td>-0.371324</td>\n",
       "      <td>...</td>\n",
       "      <td>-0.158436</td>\n",
       "      <td>-0.432876</td>\n",
       "      <td>-0.155181</td>\n",
       "      <td>0.480499</td>\n",
       "      <td>0.049574</td>\n",
       "      <td>-0.103037</td>\n",
       "      <td>-0.092517</td>\n",
       "      <td>-0.159950</td>\n",
       "      <td>0.068790</td>\n",
       "      <td>1</td>\n",
       "    </tr>\n",
       "    <tr>\n",
       "      <th>2</th>\n",
       "      <td>-0.342396</td>\n",
       "      <td>-0.165054</td>\n",
       "      <td>-0.556700</td>\n",
       "      <td>-0.046894</td>\n",
       "      <td>-0.464264</td>\n",
       "      <td>-0.350228</td>\n",
       "      <td>-0.291762</td>\n",
       "      <td>-0.262533</td>\n",
       "      <td>-0.323267</td>\n",
       "      <td>-0.371324</td>\n",
       "      <td>...</td>\n",
       "      <td>-0.158436</td>\n",
       "      <td>-0.514251</td>\n",
       "      <td>-0.155181</td>\n",
       "      <td>-0.329876</td>\n",
       "      <td>-0.308321</td>\n",
       "      <td>-0.103037</td>\n",
       "      <td>-0.132102</td>\n",
       "      <td>-0.262571</td>\n",
       "      <td>-0.458960</td>\n",
       "      <td>0</td>\n",
       "    </tr>\n",
       "    <tr>\n",
       "      <th>3</th>\n",
       "      <td>-0.342396</td>\n",
       "      <td>0.230119</td>\n",
       "      <td>-0.556700</td>\n",
       "      <td>-0.046894</td>\n",
       "      <td>1.052436</td>\n",
       "      <td>-0.350228</td>\n",
       "      <td>-0.291762</td>\n",
       "      <td>1.009061</td>\n",
       "      <td>-0.323267</td>\n",
       "      <td>-0.371324</td>\n",
       "      <td>...</td>\n",
       "      <td>-0.158436</td>\n",
       "      <td>-0.251633</td>\n",
       "      <td>-0.155181</td>\n",
       "      <td>-0.329876</td>\n",
       "      <td>-0.308321</td>\n",
       "      <td>-0.103037</td>\n",
       "      <td>-0.098190</td>\n",
       "      <td>-0.221522</td>\n",
       "      <td>-0.289090</td>\n",
       "      <td>0</td>\n",
       "    </tr>\n",
       "    <tr>\n",
       "      <th>4</th>\n",
       "      <td>-0.342396</td>\n",
       "      <td>10.899780</td>\n",
       "      <td>-0.556700</td>\n",
       "      <td>-0.046894</td>\n",
       "      <td>-0.464264</td>\n",
       "      <td>-0.350228</td>\n",
       "      <td>-0.291762</td>\n",
       "      <td>-0.262533</td>\n",
       "      <td>-0.323267</td>\n",
       "      <td>-0.371324</td>\n",
       "      <td>...</td>\n",
       "      <td>-0.158436</td>\n",
       "      <td>-0.514251</td>\n",
       "      <td>-0.155181</td>\n",
       "      <td>-0.329876</td>\n",
       "      <td>-0.308321</td>\n",
       "      <td>-0.103037</td>\n",
       "      <td>-0.106889</td>\n",
       "      <td>-0.242047</td>\n",
       "      <td>-0.452363</td>\n",
       "      <td>0</td>\n",
       "    </tr>\n",
       "  </tbody>\n",
       "</table>\n",
       "<p>5 rows × 58 columns</p>\n",
       "</div>"
      ],
      "text/plain": [
       "         0          1         2         3         4         5         6   \\\n",
       "0  2.801459  -0.165054  0.395411 -0.046894 -0.464264  3.155672 -0.291762   \n",
       "1  2.146489  -0.165054  0.197054 -0.046894 -0.285829  0.562767 -0.291762   \n",
       "2 -0.342396  -0.165054 -0.556700 -0.046894 -0.464264 -0.350228 -0.291762   \n",
       "3 -0.342396   0.230119 -0.556700 -0.046894  1.052436 -0.350228 -0.291762   \n",
       "4 -0.342396  10.899780 -0.556700 -0.046894 -0.464264 -0.350228 -0.291762   \n",
       "\n",
       "         7         8         9  ...        48        49        50        51  \\\n",
       "0 -0.262533  1.399535 -0.371324 ... -0.158436  2.511397 -0.155181 -0.115329   \n",
       "1  0.036666  0.107433 -0.371324 ... -0.158436 -0.432876 -0.155181  0.480499   \n",
       "2 -0.262533 -0.323267 -0.371324 ... -0.158436 -0.514251 -0.155181 -0.329876   \n",
       "3  1.009061 -0.323267 -0.371324 ... -0.158436 -0.251633 -0.155181 -0.329876   \n",
       "4 -0.262533 -0.323267 -0.371324 ... -0.158436 -0.514251 -0.155181 -0.329876   \n",
       "\n",
       "         52        53        54        55        56  57  \n",
       "0  1.590964  0.167144  0.137679  1.061244  0.715284   1  \n",
       "1  0.049574 -0.103037 -0.092517 -0.159950  0.068790   1  \n",
       "2 -0.308321 -0.103037 -0.132102 -0.262571 -0.458960   0  \n",
       "3 -0.308321 -0.103037 -0.098190 -0.221522 -0.289090   0  \n",
       "4 -0.308321 -0.103037 -0.106889 -0.242047 -0.452363   0  \n",
       "\n",
       "[5 rows x 58 columns]"
      ]
     },
     "execution_count": 8,
     "metadata": {},
     "output_type": "execute_result"
    }
   ],
   "source": [
    "feature_index = np.r_[0:57]\n",
    "scaled_features = {}\n",
    "for each in feature_index:\n",
    "    mean, std = spam[each].mean(), spam[each].std()\n",
    "    scaled_features[each] = [mean, std]\n",
    "    spam.loc[:, each] = (spam[each] - mean)/std\n",
    "spam.head()"
   ]
  },
  {
   "cell_type": "code",
   "execution_count": 9,
   "metadata": {
    "collapsed": true
   },
   "outputs": [],
   "source": [
    "# 1/3 data for test\n",
    "test_data = spam[-spam.shape[0]//3:]\n",
    "test_data_feature = test_data[np.r_[0:57]]\n",
    "test_data_label = test_data[57]\n",
    "# 2/3 data for train\n",
    "train_data = spam[:-spam.shape[0]//3]\n",
    "train_data_feature = train_data[np.r_[0:57]]\n",
    "train_data_label = train_data[57]"
   ]
  },
  {
   "cell_type": "code",
   "execution_count": 10,
   "metadata": {
    "scrolled": true
   },
   "outputs": [
    {
     "name": "stdout",
     "output_type": "stream",
     "text": [
      "After normalization, testing error rate: 9.00%\n"
     ]
    },
    {
     "name": "stderr",
     "output_type": "stream",
     "text": [
      "/Users/PEI/anaconda/envs/tensorflow/lib/python3.5/site-packages/sklearn/linear_model/stochastic_gradient.py:84: FutureWarning: max_iter and tol parameters have been added in <class 'sklearn.linear_model.stochastic_gradient.SGDClassifier'> in 0.19. If both are left unset, they default to max_iter=5 and tol=None. If tol is not None, max_iter defaults to max_iter=1000. From 0.21, default max_iter will be 1000, and default tol will be 1e-3.\n",
      "  \"and default tol will be 1e-3.\" % type(self), FutureWarning)\n"
     ]
    }
   ],
   "source": [
    "# use Stochastic Gradient Descent(SGD) to train the model\n",
    "classify_model = SGDClassifier(loss=\"hinge\", penalty=\"l2\",learning_rate='constant',eta0=0.001)\n",
    "classify_model.fit(train_data_feature,train_data_label)\n",
    "predict = classify_model.predict(test_data_feature)\n",
    "\n",
    "tot,err=0,0\n",
    "for pred,truth in zip(predict,test_data_label.tolist()):\n",
    "    if pred!=truth:\n",
    "        err+=1\n",
    "    tot+=1\n",
    "print('After normalization, testing error rate: {:.2%}'.format(err/tot))"
   ]
  },
  {
   "cell_type": "markdown",
   "metadata": {},
   "source": [
    "#### As we can find, fit the model with normalized data will produce lower error rate."
   ]
  }
 ],
 "metadata": {
  "kernelspec": {
   "display_name": "Python 3",
   "language": "python",
   "name": "python3"
  },
  "language_info": {
   "codemirror_mode": {
    "name": "ipython",
    "version": 3
   },
   "file_extension": ".py",
   "mimetype": "text/x-python",
   "name": "python",
   "nbconvert_exporter": "python",
   "pygments_lexer": "ipython3",
   "version": "3.5.4"
  }
 },
 "nbformat": 4,
 "nbformat_minor": 2
}
